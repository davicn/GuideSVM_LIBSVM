{
  "nbformat": 4,
  "nbformat_minor": 0,
  "metadata": {
    "colab": {
      "name": "Introducao.ipynb",
      "version": "0.3.2",
      "provenance": [],
      "include_colab_link": true
    },
    "kernelspec": {
      "name": "python3",
      "display_name": "Python 3"
    }
  },
  "cells": [
    {
      "cell_type": "markdown",
      "metadata": {
        "id": "view-in-github",
        "colab_type": "text"
      },
      "source": [
        "<a href=\"https://colab.research.google.com/github/davicn/GuideSVM_LIBSVM/blob/master/Introducao.ipynb\" target=\"_parent\"><img src=\"https://colab.research.google.com/assets/colab-badge.svg\" alt=\"Open In Colab\"/></a>"
      ]
    },
    {
      "metadata": {
        "id": "lyUZCPmGWQpZ",
        "colab_type": "text"
      },
      "cell_type": "markdown",
      "source": [
        "# Introdução\n",
        "\n",
        "SVMs (Support Vector Machines) são uma técnica útil para classificação de dados. Embora o SVM seja considerado mais fácil de usar do que as Redes Neurais, os usuários não familiarizados com ele geralmente obtêm resultados insatisfatórios no início. Aqui nós delineamos uma abordagem de “livro de receitas” que geralmente dá resultados razoáveis.\n",
        "\n",
        "Observe que este guia não é para pesquisadores de SVM nem garantimos que você obterá a mais alta precisão. Além disso, não pretendemos resolver problemas desafiadores ou difíceis. Nosso objetivo é oferecer aos novatos de SVM uma receita para obter rapidamente resultados aceitáveis.\n",
        "\n",
        "Embora os usuários não precisem entender a teoria subjacente ao SVM, apresentamos brevemente os fundamentos necessários para explicar nosso procedimento. Uma tarefa de classificação geralmente envolve a separação de dados em conjuntos de treinamento e testes. Cada instância no conjunto de treinamento contém um \"valor alvo\" (ou seja, os rótulos de classe) e vários \"atributos\" (ou seja, os recursos ou variáveis observadas). O objetivo do SVM é produzir um modelo (com base nos dados de treinamento) que prevê os valores de destino dos dados de teste, dados somente os atributos de dados de teste.\n",
        "\n"
      ]
    },
    {
      "metadata": {
        "id": "KpgSp9qbXMIR",
        "colab_type": "text"
      },
      "cell_type": "markdown",
      "source": [
        "Dado um conjunto de treinamento de pares de rótulo de instância $(\\textbf{x}_i,y_i), i=1, \\dots, l$ onde $\\textbf{x}_i \\epsilon R^n$ e $\\textbf{y} \\epsilon \\left\\{1,-1\\right\\}^l$, à máquina de vetores de suporte (SVM) as máquinas de vetores de suporte (SVM) exigem a solução do seguinte problema de otimização:\n",
        "\n",
        "$$\\frac{1}{2}\\textbf{w}^T\\textbf{w} +C\\sum_{i=1}^l{\\xi}_i$$\n",
        "$$y_i \\left( \\textbf{w}^T  \\phi \\left( \\textbf{x}_i + b\\right)\\right) \\geq 1-\\xi_i$$\n",
        "$$\\xi \\geq 0$$"
      ]
    },
    {
      "metadata": {
        "id": "FomesGpOfPDQ",
        "colab_type": "text"
      },
      "cell_type": "markdown",
      "source": [
        "Aqui os vetores de treinamento $\\textbf{x}_i$ são mapeados em um espaço dimensional superior (talvez infinito) pela função $\\phi$. O SVM encontra um hiperplano de separação linear com a margem máxima neste espaço dimensional superior. $C> 0$ é o parâmetro de penalidade do termo de erro.  Além disso, $K(\\textbf{x}_i,\\textbf{x}_j) \\equiv \\phi(\\textbf{x}_i)^T \\phi(\\textbf{x}_j)$ é chamado de função do kernel. Embora os novos núcleos estejam sendo propostos pelos pesquisadores, os iniciantes podem encontrar nos livros de SVM os quatro núcleos básicos:\n",
        "\n",
        "* Linear: $K(\\textbf{x}_i,\\textbf{x}_j) =  \\textbf{x}_i^T\\textbf{x}_j$;\n",
        "* Polinomial: $K(\\textbf{x}_i,\\textbf{x}_j) = \\gamma(\\textbf{x}_i^T\\textbf{x}_j + r)^d, \\gamma>0;$\n",
        "* Função de Base Radial (RBF): $K(\\textbf{x}_i,\\textbf{x}_j) = exp( -\\gamma \\parallel \\textbf{x}_i^T\\textbf{x}_j\\parallel ^2), \\gamma>0;$\n",
        "* Sigmoial: $K(\\textbf{x}_i,\\textbf{x}_j) = tanh(\\gamma \\textbf{x}_i^T\\textbf{x}_j+ r)$.\n",
        "\n",
        "Aqui, $\\gamma$, $r$ e $d$ são parâmetros do kernel."
      ]
    },
    {
      "metadata": {
        "id": "2Lwx7XAFjWl6",
        "colab_type": "text"
      },
      "cell_type": "markdown",
      "source": [
        "## Exemplos do Mundo Real\n",
        "\n",
        "A Tabela 1 apresenta alguns exemplos do mundo real. Esses conjuntos de dados são fornecidos por nossos usuários que não conseguiram obter uma precisão razoável no início. Usando o procedimento ilustrado neste guia, nós os ajudamos a obter um melhor desempenho. Detalhes estão no Apêndice A.\n",
        "\n",
        "Esses conjuntos de dados estão em t http://www.csie.ntu.edu.tw/~cjlin/papers/guide/data/\n"
      ]
    },
    {
      "metadata": {
        "id": "VqHUrFHvc0rA",
        "colab_type": "text"
      },
      "cell_type": "markdown",
      "source": [
        "Tabela 1: Características do problema e comparações de desempenho.\n",
        "\n",
        "| Aplicações      | Dados de Treino | Dados de Teste | Características | Classes | Precisão de Usuários | Precisão do Nosso Procedimento |\n",
        "|-----------------|-----------------|----------------|-----------------|---------|-------------------|-----------------------------|\n",
        "| Astropartículas | 3,089           | 4,000          | 4               | 2       | 75.2%             | 96.9%                       |\n",
        "| Bioinformática  | 391             | 0              | 20              | 3       | 36%               | 85,2%                       |\n",
        "| Veículo         | 1,243           | 41             | 21              | 2       | 4,88%             | 87,8%                       |"
      ]
    },
    {
      "metadata": {
        "id": "-n6uFCr6jzRh",
        "colab_type": "text"
      },
      "cell_type": "markdown",
      "source": [
        "## Procedimento Proposto\n",
        "\n",
        "Muitos iniciantes usam o seguinte procedimento:\n",
        "* Transformar dados para o formato de um pacote SVM\n",
        "* Tentar alguns kernels e parâmetros aleatoriamente\n",
        "* Teste\n",
        "\n",
        "Propomos que os iniciantes experimentem o seguinte procedimento primeiro:\n",
        "* Transformar dados para o formato de um pacote SVM\n",
        "* Realizar escalonamento simples nos dados\n",
        "* Considere o kernel RBF $K(\\textbf{x}_i,\\textbf{x}_j) = e^{ -\\gamma \\parallel \\textbf{x}_i^T\\textbf{x}_j\\parallel ^2}$\n",
        "* Use a validação cruzada para encontrar o melhor parâmetro $C$ e $\\gamma$\n",
        "* Use o melhor parâmetro $C$ e $\\gamma$ para treinar todo o conjunto de treinamento (O melhor parâmetro pode ser afetado pelo tamanho do conjunto de dados, mas, na prática, aquele que é obtido da validação cruzada já é adequado para todo o conjunto de treinamento)\n",
        "* Teste\n",
        "\n",
        "Discutiremos este procedimento em detalhes nas seções a seguir."
      ]
    }
  ]
}